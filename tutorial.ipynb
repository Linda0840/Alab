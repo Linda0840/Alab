{
 "cells": [
  {
   "cell_type": "markdown",
   "id": "0e5a99ce-79b2-47b1-bfce-ff99b94ebad3",
   "metadata": {},
   "source": [
    "# How to use target_merging.py, to_probabilities.py, and evaluation.py for feature evaluation in a streamline"
   ]
  },
  {
   "cell_type": "code",
   "execution_count": 2,
   "id": "779399f3-bea9-4a9e-ac1a-26dcef0ba4f2",
   "metadata": {
    "tags": []
   },
   "outputs": [],
   "source": [
    "import pandas as pd\n",
    "import numpy as np"
   ]
  },
  {
   "cell_type": "markdown",
   "id": "816b98fb-8f35-4326-83ab-81832e69b9ea",
   "metadata": {
    "tags": []
   },
   "source": [
    "## A. Merging\n",
    "1. load target dataframe"
   ]
  },
  {
   "cell_type": "code",
   "execution_count": 3,
   "id": "96f94ef1-47da-4cf6-904c-8f9fdb646398",
   "metadata": {
    "tags": []
   },
   "outputs": [
    {
     "data": {
      "text/html": [
       "<div>\n",
       "<style scoped>\n",
       "    .dataframe tbody tr th:only-of-type {\n",
       "        vertical-align: middle;\n",
       "    }\n",
       "\n",
       "    .dataframe tbody tr th {\n",
       "        vertical-align: top;\n",
       "    }\n",
       "\n",
       "    .dataframe thead th {\n",
       "        text-align: right;\n",
       "    }\n",
       "</style>\n",
       "<table border=\"1\" class=\"dataframe\">\n",
       "  <thead>\n",
       "    <tr style=\"text-align: right;\">\n",
       "      <th></th>\n",
       "      <th>APPROVAL_ID_INFO</th>\n",
       "      <th>APPLICATION_ID_INFO</th>\n",
       "      <th>FIRST_APPROVAL_ID_INFO</th>\n",
       "      <th>DECISION_CHAIN_ID_INFO</th>\n",
       "      <th>target</th>\n",
       "    </tr>\n",
       "  </thead>\n",
       "  <tbody>\n",
       "    <tr>\n",
       "      <th>0</th>\n",
       "      <td>138217860</td>\n",
       "      <td>119743699</td>\n",
       "      <td>138217860</td>\n",
       "      <td>27253019</td>\n",
       "      <td>0.0</td>\n",
       "    </tr>\n",
       "    <tr>\n",
       "      <th>1</th>\n",
       "      <td>129199921</td>\n",
       "      <td>114818219</td>\n",
       "      <td>129199921</td>\n",
       "      <td>18154634</td>\n",
       "      <td>0.0</td>\n",
       "    </tr>\n",
       "    <tr>\n",
       "      <th>2</th>\n",
       "      <td>148414823</td>\n",
       "      <td>123437264</td>\n",
       "      <td>148414823</td>\n",
       "      <td>37436298</td>\n",
       "      <td>NaN</td>\n",
       "    </tr>\n",
       "    <tr>\n",
       "      <th>3</th>\n",
       "      <td>135256719</td>\n",
       "      <td>118197979</td>\n",
       "      <td>135256719</td>\n",
       "      <td>24269570</td>\n",
       "      <td>0.0</td>\n",
       "    </tr>\n",
       "    <tr>\n",
       "      <th>4</th>\n",
       "      <td>145333119</td>\n",
       "      <td>122483029</td>\n",
       "      <td>145333119</td>\n",
       "      <td>34372022</td>\n",
       "      <td>NaN</td>\n",
       "    </tr>\n",
       "    <tr>\n",
       "      <th>...</th>\n",
       "      <td>...</td>\n",
       "      <td>...</td>\n",
       "      <td>...</td>\n",
       "      <td>...</td>\n",
       "      <td>...</td>\n",
       "    </tr>\n",
       "    <tr>\n",
       "      <th>314252</th>\n",
       "      <td>126061074</td>\n",
       "      <td>113021896</td>\n",
       "      <td>126061074</td>\n",
       "      <td>14999720</td>\n",
       "      <td>0.0</td>\n",
       "    </tr>\n",
       "    <tr>\n",
       "      <th>314253</th>\n",
       "      <td>132364258</td>\n",
       "      <td>116610529</td>\n",
       "      <td>132364258</td>\n",
       "      <td>21345488</td>\n",
       "      <td>1.0</td>\n",
       "    </tr>\n",
       "    <tr>\n",
       "      <th>314254</th>\n",
       "      <td>148080435</td>\n",
       "      <td>123327742</td>\n",
       "      <td>148080435</td>\n",
       "      <td>37102622</td>\n",
       "      <td>0.0</td>\n",
       "    </tr>\n",
       "    <tr>\n",
       "      <th>314255</th>\n",
       "      <td>133950290</td>\n",
       "      <td>117468580</td>\n",
       "      <td>133950290</td>\n",
       "      <td>22946379</td>\n",
       "      <td>0.0</td>\n",
       "    </tr>\n",
       "    <tr>\n",
       "      <th>314256</th>\n",
       "      <td>129504677</td>\n",
       "      <td>114994611</td>\n",
       "      <td>129504677</td>\n",
       "      <td>18460999</td>\n",
       "      <td>NaN</td>\n",
       "    </tr>\n",
       "  </tbody>\n",
       "</table>\n",
       "<p>314257 rows × 5 columns</p>\n",
       "</div>"
      ],
      "text/plain": [
       "        APPROVAL_ID_INFO  APPLICATION_ID_INFO  FIRST_APPROVAL_ID_INFO  \\\n",
       "0              138217860            119743699               138217860   \n",
       "1              129199921            114818219               129199921   \n",
       "2              148414823            123437264               148414823   \n",
       "3              135256719            118197979               135256719   \n",
       "4              145333119            122483029               145333119   \n",
       "...                  ...                  ...                     ...   \n",
       "314252         126061074            113021896               126061074   \n",
       "314253         132364258            116610529               132364258   \n",
       "314254         148080435            123327742               148080435   \n",
       "314255         133950290            117468580               133950290   \n",
       "314256         129504677            114994611               129504677   \n",
       "\n",
       "        DECISION_CHAIN_ID_INFO  target  \n",
       "0                     27253019     0.0  \n",
       "1                     18154634     0.0  \n",
       "2                     37436298     NaN  \n",
       "3                     24269570     0.0  \n",
       "4                     34372022     NaN  \n",
       "...                        ...     ...  \n",
       "314252                14999720     0.0  \n",
       "314253                21345488     1.0  \n",
       "314254                37102622     0.0  \n",
       "314255                22946379     0.0  \n",
       "314256                18460999     NaN  \n",
       "\n",
       "[314257 rows x 5 columns]"
      ]
     },
     "execution_count": 3,
     "metadata": {},
     "output_type": "execute_result"
    }
   ],
   "source": [
    "target = pd.read_csv('target.csv')\n",
    "target"
   ]
  },
  {
   "cell_type": "markdown",
   "id": "1379cca1-32a8-438d-a235-03138e6a705e",
   "metadata": {},
   "source": [
    "2. Suppose you make feature X\n",
    "3. Of course you want feature X to align with Target. We do this by picking ONE of the four 'APPROVAL_ID_INFO', 'APPLICATION_ID_INFO', 'FIRST_APPROVAL_ID_INFO', 'DECISION_CHAIN_ID_INFO', whichever is available in you feature dataset."
   ]
  },
  {
   "cell_type": "code",
   "execution_count": 6,
   "id": "9f3be007-0797-4a6b-a8cb-b9ae2de0682d",
   "metadata": {
    "tags": []
   },
   "outputs": [],
   "source": [
    "def merge_on_column(result_df: pd.DataFrame, feature_df: pd.DataFrame, merge_col: str) -> pd.DataFrame:\n",
    "    \"\"\"\n",
    "    Perform an inner merge between result_df and feature_df based on a specified common column.\n",
    "\n",
    "    Parameters\n",
    "    ----------\n",
    "    result_df : pd.DataFrame\n",
    "        The main dataframe with ID columns and target.\n",
    "    feature_df : pd.DataFrame\n",
    "        The dataframe containing the same ID column and a 'feature' column.\n",
    "    merge_col : str\n",
    "        One of ['APPROVAL_ID_INFO', 'APPLICATION_ID_INFO', \n",
    "                'FIRST_APPROVAL_ID_INFO', 'DECISION_CHAIN_ID_INFO'].\n",
    "\n",
    "    Returns\n",
    "    -------\n",
    "    pd.DataFrame\n",
    "        The merged dataframe with all NaN rows removed.\n",
    "    \"\"\"\n",
    "    valid_cols = [\n",
    "        'APPROVAL_ID_INFO', \n",
    "        'APPLICATION_ID_INFO', \n",
    "        'FIRST_APPROVAL_ID_INFO', \n",
    "        'DECISION_CHAIN_ID_INFO'\n",
    "    ]\n",
    "    \n",
    "    if merge_col not in valid_cols:\n",
    "        raise ValueError(f\"merge_col must be one of {valid_cols}\")\n",
    "    \n",
    "    # inner merge using the same column name in both DataFrames\n",
    "    merged = pd.merge(result_df, feature_df, how='inner', on=merge_col)\n",
    "        \n",
    "    # Drop only rows where the target column is nan\n",
    "    merged = merged.dropna(subset=['target']).reset_index(drop=True)\n",
    "    \n",
    "    return merged\n"
   ]
  },
  {
   "cell_type": "markdown",
   "id": "54d729bd-7958-43c8-b366-b82fec31cb92",
   "metadata": {},
   "source": [
    "* Suppose your feature looks like this and we pick \"APPLICATION_ID_INFO\" as the merging criteria"
   ]
  },
  {
   "cell_type": "code",
   "execution_count": 7,
   "id": "ecd7b93e-44a9-4c5c-9cd6-11053c33c9c4",
   "metadata": {
    "tags": []
   },
   "outputs": [
    {
     "data": {
      "text/html": [
       "<div>\n",
       "<style scoped>\n",
       "    .dataframe tbody tr th:only-of-type {\n",
       "        vertical-align: middle;\n",
       "    }\n",
       "\n",
       "    .dataframe tbody tr th {\n",
       "        vertical-align: top;\n",
       "    }\n",
       "\n",
       "    .dataframe thead th {\n",
       "        text-align: right;\n",
       "    }\n",
       "</style>\n",
       "<table border=\"1\" class=\"dataframe\">\n",
       "  <thead>\n",
       "    <tr style=\"text-align: right;\">\n",
       "      <th></th>\n",
       "      <th>APPLICATION_ID_INFO</th>\n",
       "      <th>feature</th>\n",
       "    </tr>\n",
       "  </thead>\n",
       "  <tbody>\n",
       "    <tr>\n",
       "      <th>0</th>\n",
       "      <td>119743699</td>\n",
       "      <td>1</td>\n",
       "    </tr>\n",
       "    <tr>\n",
       "      <th>1</th>\n",
       "      <td>114818219</td>\n",
       "      <td>2</td>\n",
       "    </tr>\n",
       "    <tr>\n",
       "      <th>2</th>\n",
       "      <td>123437264</td>\n",
       "      <td>3</td>\n",
       "    </tr>\n",
       "    <tr>\n",
       "      <th>3</th>\n",
       "      <td>118197979</td>\n",
       "      <td>4</td>\n",
       "    </tr>\n",
       "    <tr>\n",
       "      <th>4</th>\n",
       "      <td>122483029</td>\n",
       "      <td>5</td>\n",
       "    </tr>\n",
       "  </tbody>\n",
       "</table>\n",
       "</div>"
      ],
      "text/plain": [
       "   APPLICATION_ID_INFO  feature\n",
       "0            119743699        1\n",
       "1            114818219        2\n",
       "2            123437264        3\n",
       "3            118197979        4\n",
       "4            122483029        5"
      ]
     },
     "execution_count": 7,
     "metadata": {},
     "output_type": "execute_result"
    }
   ],
   "source": [
    "feature_df = pd.DataFrame({\n",
    "    \"APPLICATION_ID_INFO\": [119743699, 114818219, 123437264, 118197979, 122483029],\n",
    "    \"feature\": [1, 2, 3, 4, 5]\n",
    "})\n",
    "\n",
    "feature_df"
   ]
  },
  {
   "cell_type": "markdown",
   "id": "4cccc4fc-b374-4af6-86b6-1fb9932717c6",
   "metadata": {},
   "source": [
    "* Note that merge_on_column function deletes rows where target is np.nan"
   ]
  },
  {
   "cell_type": "code",
   "execution_count": 10,
   "id": "e2d37d8d-d9fb-49af-91c9-c43ac8afc76d",
   "metadata": {
    "tags": []
   },
   "outputs": [
    {
     "data": {
      "text/html": [
       "<div>\n",
       "<style scoped>\n",
       "    .dataframe tbody tr th:only-of-type {\n",
       "        vertical-align: middle;\n",
       "    }\n",
       "\n",
       "    .dataframe tbody tr th {\n",
       "        vertical-align: top;\n",
       "    }\n",
       "\n",
       "    .dataframe thead th {\n",
       "        text-align: right;\n",
       "    }\n",
       "</style>\n",
       "<table border=\"1\" class=\"dataframe\">\n",
       "  <thead>\n",
       "    <tr style=\"text-align: right;\">\n",
       "      <th></th>\n",
       "      <th>APPROVAL_ID_INFO</th>\n",
       "      <th>APPLICATION_ID_INFO</th>\n",
       "      <th>FIRST_APPROVAL_ID_INFO</th>\n",
       "      <th>DECISION_CHAIN_ID_INFO</th>\n",
       "      <th>target</th>\n",
       "      <th>feature</th>\n",
       "    </tr>\n",
       "  </thead>\n",
       "  <tbody>\n",
       "    <tr>\n",
       "      <th>0</th>\n",
       "      <td>138217860</td>\n",
       "      <td>119743699</td>\n",
       "      <td>138217860</td>\n",
       "      <td>27253019</td>\n",
       "      <td>0.0</td>\n",
       "      <td>1</td>\n",
       "    </tr>\n",
       "    <tr>\n",
       "      <th>1</th>\n",
       "      <td>129199921</td>\n",
       "      <td>114818219</td>\n",
       "      <td>129199921</td>\n",
       "      <td>18154634</td>\n",
       "      <td>0.0</td>\n",
       "      <td>2</td>\n",
       "    </tr>\n",
       "    <tr>\n",
       "      <th>2</th>\n",
       "      <td>135256719</td>\n",
       "      <td>118197979</td>\n",
       "      <td>135256719</td>\n",
       "      <td>24269570</td>\n",
       "      <td>0.0</td>\n",
       "      <td>4</td>\n",
       "    </tr>\n",
       "  </tbody>\n",
       "</table>\n",
       "</div>"
      ],
      "text/plain": [
       "   APPROVAL_ID_INFO  APPLICATION_ID_INFO  FIRST_APPROVAL_ID_INFO  \\\n",
       "0         138217860            119743699               138217860   \n",
       "1         129199921            114818219               129199921   \n",
       "2         135256719            118197979               135256719   \n",
       "\n",
       "   DECISION_CHAIN_ID_INFO  target  feature  \n",
       "0                27253019     0.0        1  \n",
       "1                18154634     0.0        2  \n",
       "2                24269570     0.0        4  "
      ]
     },
     "execution_count": 10,
     "metadata": {},
     "output_type": "execute_result"
    }
   ],
   "source": [
    "merged_df = merge_on_column(target, feature_df, \"APPLICATION_ID_INFO\")\n",
    "merged_df"
   ]
  },
  {
   "cell_type": "markdown",
   "id": "c850c68a-a0ce-430b-aa0f-555eeef57426",
   "metadata": {},
   "source": [
    "# B. Convert Feature to Probabilities"
   ]
  },
  {
   "cell_type": "markdown",
   "id": "7ae7f5e1-3992-4aa7-ba52-34f5f3bc25cc",
   "metadata": {},
   "source": [
    "* We ALWAYS assume that larger the feature value, more likely the fraud will happen (If you do the other way, make sure you FLIP your feature sign)"
   ]
  },
  {
   "cell_type": "markdown",
   "id": "f1f1d173-476e-4c1f-a566-70fc1aa0757d",
   "metadata": {},
   "source": [
    "* We need to convert **feature values into probabilities** so that our evaluation make sense. We do this by using softmax function"
   ]
  },
  {
   "cell_type": "code",
   "execution_count": 11,
   "id": "9360646a-f0a0-4ff3-b01b-36a47dff4138",
   "metadata": {
    "tags": []
   },
   "outputs": [],
   "source": [
    "def to_probabilities(x):\n",
    "    \"\"\"\n",
    "    Convert arbitrary feature values into normalized probabilities.\n",
    "    The output sums to 1 and can be directly compared to thresholds.\n",
    "    \"\"\"\n",
    "    x = np.asarray(x, dtype=float)\n",
    "    # numerical stability\n",
    "    exp_x = np.exp(x - np.max(x))\n",
    "    return exp_x / exp_x.sum()"
   ]
  },
  {
   "cell_type": "markdown",
   "id": "c13aa539-92ab-4b71-afe3-78467eac9450",
   "metadata": {},
   "source": [
    "When you convert feature value [1,2,4] into probabilities, this is what happens"
   ]
  },
  {
   "cell_type": "code",
   "execution_count": 14,
   "id": "267087da-81ce-465d-b1d0-dae50e1188d3",
   "metadata": {
    "tags": []
   },
   "outputs": [
    {
     "data": {
      "text/plain": [
       "array([0.04201007, 0.1141952 , 0.84379473])"
      ]
     },
     "execution_count": 14,
     "metadata": {},
     "output_type": "execute_result"
    }
   ],
   "source": [
    "feature = merged_df['feature']\n",
    "prob = to_probabilities(feature)\n",
    "prob"
   ]
  },
  {
   "cell_type": "markdown",
   "id": "11cd00f3-c352-4921-ae88-5a69b2ff6809",
   "metadata": {},
   "source": [
    "# C. Evaluation"
   ]
  },
  {
   "cell_type": "markdown",
   "id": "a6264e49-172f-4c81-abb7-24d02c75904e",
   "metadata": {},
   "source": [
    "* Now that we have our feature converted into probabilities, we can calculate the confusion matrix to see how good the feature behaves"
   ]
  },
  {
   "cell_type": "code",
   "execution_count": 17,
   "id": "28a64d6f-0a7c-41ed-95a4-4ea6d643c36d",
   "metadata": {
    "tags": []
   },
   "outputs": [],
   "source": [
    "from sklearn.metrics import precision_score, recall_score, accuracy_score, f1_score\n",
    "\n",
    "def evaluate_fraud_model(y_true, y_pred_prob, threshold=0.5):\n",
    "    \"\"\"\n",
    "    Evaluate model performance for fraud detection.\n",
    "    Terminates if NaN values are detected in either input array.\n",
    "    Reports specific reason(s) if rejected.\n",
    "    \"\"\"\n",
    "    # Convert to NumPy arrays\n",
    "    y_true = np.asarray(y_true)\n",
    "    y_pred_prob = np.asarray(y_pred_prob)\n",
    "\n",
    "    # Check for NaNs\n",
    "    if np.isnan(y_true).any() or np.isnan(y_pred_prob).any():\n",
    "        raise ValueError(\"❌ Terminated: Input arrays contain NaN values. Please clean your data before evaluation.\")\n",
    "\n",
    "    # Convert probabilities to binary predictions\n",
    "    y_pred = (y_pred_prob >= threshold).astype(int)\n",
    "\n",
    "    # Compute metrics\n",
    "    precision = precision_score(y_true, y_pred, zero_division=0)\n",
    "    recall = recall_score(y_true, y_pred, zero_division=0)\n",
    "    acc = accuracy_score(y_true, y_pred)\n",
    "    f1 = f1_score(y_true, y_pred, zero_division=0)\n",
    "\n",
    "    # Reasonable thresholds for fraud detection\n",
    "    precision_req = 0.7\n",
    "    recall_req = 0.65\n",
    "    acc_req = 0.75\n",
    "    f1_req = 0.7\n",
    "\n",
    "    # Collect unmet criteria\n",
    "    failed = []\n",
    "    if precision < precision_req:\n",
    "        failed.append(f\"Precision below threshold ({precision:.3f} < {precision_req})\")\n",
    "    if recall < recall_req:\n",
    "        failed.append(f\"Recall below threshold ({recall:.3f} < {recall_req})\")\n",
    "    if acc < acc_req:\n",
    "        failed.append(f\"Accuracy below threshold ({acc:.3f} < {acc_req})\")\n",
    "    if f1 < f1_req:\n",
    "        failed.append(f\"F1 Score below threshold ({f1:.3f} < {f1_req})\")\n",
    "\n",
    "    # Decision\n",
    "    if not failed:\n",
    "        decision = \"PASS ✅\"\n",
    "        reason = \"All metrics meet or exceed required thresholds.\"\n",
    "    else:\n",
    "        decision = \"REJECT ❌\"\n",
    "        reason = \" | \".join(failed)\n",
    "    \n",
    "    # Display results\n",
    "    print(f\"Precision : {precision:.4f}\")\n",
    "    print(f\"Recall    : {recall:.4f}\")\n",
    "    print(f\"Accuracy  : {acc:.4f}\")\n",
    "    print(f\"F1 Score  : {f1:.4f}\")\n",
    "    print(f\"Decision  : {decision}\")\n",
    "    print(f\"Reason    : {reason}\")\n",
    "\n",
    "    return {\n",
    "        \"Precision\": precision,\n",
    "        \"Recall\": recall,\n",
    "        \"Accuracy\": acc,\n",
    "        \"F1\": f1,\n",
    "        \"Decision\": decision,\n",
    "        \"Reason\": reason\n",
    "    }\n"
   ]
  },
  {
   "cell_type": "markdown",
   "id": "1723d317-4339-4503-9c81-ce1bb01a5d15",
   "metadata": {},
   "source": [
    "- Feature Value in probability: [0.04201007, 0.1141952 , 0.84379473]\n",
    "- Actual Value: [0, 0, 0]\n"
   ]
  },
  {
   "cell_type": "markdown",
   "id": "f125a71d-4cb9-4e82-b640-4d9b17ade98d",
   "metadata": {},
   "source": [
    "* In this example we see that even though we do not have fraud in the real data, our feature says the last instance has probability 84.37% of being fraudulent\n",
    "* You can see a detailed report of this WEAK feature"
   ]
  },
  {
   "cell_type": "code",
   "execution_count": 18,
   "id": "672ed32d-5e15-4d6a-9d78-2618f0438864",
   "metadata": {
    "tags": []
   },
   "outputs": [
    {
     "name": "stdout",
     "output_type": "stream",
     "text": [
      "Precision : 0.0000\n",
      "Recall    : 0.0000\n",
      "Accuracy  : 0.6667\n",
      "F1 Score  : 0.0000\n",
      "Decision  : REJECT ❌\n",
      "Reason    : Precision below threshold (0.000 < 0.7) | Recall below threshold (0.000 < 0.65) | Accuracy below threshold (0.667 < 0.75) | F1 Score below threshold (0.000 < 0.7)\n"
     ]
    },
    {
     "data": {
      "text/plain": [
       "{'Precision': 0.0,\n",
       " 'Recall': 0.0,\n",
       " 'Accuracy': 0.6666666666666666,\n",
       " 'F1': 0.0,\n",
       " 'Decision': 'REJECT ❌',\n",
       " 'Reason': 'Precision below threshold (0.000 < 0.7) | Recall below threshold (0.000 < 0.65) | Accuracy below threshold (0.667 < 0.75) | F1 Score below threshold (0.000 < 0.7)'}"
      ]
     },
     "execution_count": 18,
     "metadata": {},
     "output_type": "execute_result"
    }
   ],
   "source": [
    "evaluate_fraud_model(merged_df['target'], prob)"
   ]
  }
 ],
 "metadata": {
  "kernelspec": {
   "display_name": "Python 3 (ipykernel)",
   "language": "python",
   "name": "python3"
  },
  "language_info": {
   "codemirror_mode": {
    "name": "ipython",
    "version": 3
   },
   "file_extension": ".py",
   "mimetype": "text/x-python",
   "name": "python",
   "nbconvert_exporter": "python",
   "pygments_lexer": "ipython3",
   "version": "3.11.3"
  }
 },
 "nbformat": 4,
 "nbformat_minor": 5
}
